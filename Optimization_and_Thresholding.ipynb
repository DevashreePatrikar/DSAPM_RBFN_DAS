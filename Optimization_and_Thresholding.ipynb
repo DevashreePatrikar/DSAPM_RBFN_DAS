{
  "nbformat": 4,
  "nbformat_minor": 0,
  "metadata": {
    "colab": {
      "provenance": []
    },
    "kernelspec": {
      "name": "python3",
      "display_name": "Python 3"
    },
    "language_info": {
      "name": "python"
    }
  },
  "cells": [
    {
      "cell_type": "markdown",
      "source": [
        "**Optimization and Thresholding using RBFN:** The code optimizes the frame scores using a Radial Basis Function Network (RBFN). It applies K-Means clustering, and performs an RBF transformation using a Gaussian function to optimize the scores. It also determines the threshold for training data."
      ],
      "metadata": {
        "id": "18tWWyrAmawP"
      }
    },
    {
      "cell_type": "code",
      "source": [
        "import numpy as np\n",
        "import pandas as pd\n",
        "import matplotlib.pyplot as plt\n",
        "from sklearn.cluster import KMeans\n",
        "from scipy.spatial.distance import cdist\n",
        "from numpy.linalg import lstsq\n",
        "\n",
        "# Load frame scores\n",
        "file_path = \"frame_scores_train.xlsx\"  # Update with your file path\n",
        "df = pd.read_excel(file_path)\n",
        "\n",
        "# Extract frame scores\n",
        "frame_scores = df[\"Fs\"].values.reshape(-1, 1)\n",
        "\n",
        "# Apply K-Means clustering to find cluster centers (q = 3)\n",
        "kmeans = KMeans(n_clusters=3, random_state=42, n_init=10)\n",
        "kmeans.fit(frame_scores)\n",
        "centers = kmeans.cluster_centers_\n",
        "\n",
        "# RBF transformation using Gaussian function\n",
        "def rbf_transform(x, centers, sigma=10):\n",
        "    return np.exp(-cdist(x, centers, 'sqeuclidean') / (2 * sigma ** 2))\n",
        "\n",
        "# Apply RBF transformation\n",
        "phi = rbf_transform(frame_scores, centers)\n",
        "\n",
        "# Solve for synaptic weights W using least squares optimization\n",
        "desired_output = frame_scores  # Use original frame scores as targets\n",
        "W, _, _, _ = lstsq(phi, desired_output, rcond=None)\n",
        "\n",
        "# Compute optimized frame scores using Fs_opti = sum(W_k * phi(f))\n",
        "optimized_frame_scores = phi @ W\n",
        "\n",
        "# Save results to DataFrame\n",
        "df_results = df.copy()\n",
        "df_results[\"optimized_frame_scores\"] = optimized_frame_scores\n",
        "\n",
        "# Compute the threshold from the maximum optimized frame score\n",
        "Fs_th = np.max(optimized_frame_scores)\n",
        "df_results[\"Fs_th\"] = Fs_th\n",
        "\n",
        "# Save results in the same Excel file\n",
        "with pd.ExcelWriter(file_path, engine=\"openpyxl\", mode=\"a\", if_sheet_exists=\"replace\") as writer:\n",
        "    df_results.to_excel(writer, sheet_name=\"optimized_frame_scores\", index=False)\n",
        "    pd.DataFrame({\"Threshold\": [Fs_th]}).to_excel(writer, sheet_name=\"threshold_value\", index=False)\n",
        "\n",
        "print(\"RBFN optimization complete. Results saved.\")\n"
      ],
      "metadata": {
        "id": "d3PW5X-pmc9p"
      },
      "execution_count": null,
      "outputs": []
    }
  ]
}